{
 "cells": [
  {
   "cell_type": "markdown",
   "id": "9df7f7d1",
   "metadata": {},
   "source": [
    "# Iowa Liquor Sales Analysis Stage 1 Data Cleaning"
   ]
  },
  {
   "cell_type": "markdown",
   "id": "0485940f",
   "metadata": {},
   "source": [
    "# Setup and Imports "
   ]
  },
  {
   "cell_type": "code",
   "execution_count": 1,
   "id": "37c4cc1a",
   "metadata": {},
   "outputs": [],
   "source": [
    "# Common imports\n",
    "import numpy as np\n",
    "import pandas as pd\n",
    "from pathlib import Path\n",
    "from tqdm import tqdm\n",
    "import os\n",
    "\n",
    "# Plotting imports and settings\n",
    "import seaborn as sns\n",
    "import matplotlib.pyplot as plt\n",
    "plt.style.use(\"ggplot\")\n",
    "import matplotlib as mpl\n",
    "mpl.rcParams['figure.figsize'] = (13,8)\n",
    "\n",
    "# Metrics and useful imports\n",
    "from sklearn.metrics import accuracy_score, roc_auc_score, precision_score, recall_score, f1_score, confusion_matrix\n",
    "from sklearn.model_selection import train_test_split, cross_validate, StratifiedKFold"
   ]
  },
  {
   "cell_type": "code",
   "execution_count": 2,
   "id": "8c9da9f5",
   "metadata": {},
   "outputs": [],
   "source": [
    "np.random.seed(0)"
   ]
  },
  {
   "cell_type": "markdown",
   "id": "96c9bd0e",
   "metadata": {},
   "source": [
    "# THE SOURCE\n",
    "Data on Iowa's alcohol sales from January 1, 2012, through April 1, 2023\n",
    "These monthly updated Iowa liquor sale databases were obtained from the Alcoholic Beverages Division of the Iowa Department of Commerce.\n",
    "\n",
    "This dataset includes information on the spirits purchased by Iowa Class \"E\" liquor licence holders between January 1, 2012, and the present, broken down by product and date of purchase. The dataset can be used to examine specific product sales of spirits at the retail level in Iowa as a whole.Grocery, liquor, convenience, etc. stores with a Class E liquor licence are able to sell alcohol in its original, unopened packaging for consumption off-site. "
   ]
  },
  {
   "cell_type": "code",
   "execution_count": 3,
   "id": "98704b1d",
   "metadata": {},
   "outputs": [
    {
     "data": {
      "text/plain": [
       "(26160915, 24)"
      ]
     },
     "execution_count": 3,
     "metadata": {},
     "output_type": "execute_result"
    }
   ],
   "source": [
    "IowaSales_raw = pd.read_csv(\"Iowa_Liquor_Sales2.csv\", low_memory=False)\n",
    "IowaSales_raw.shape"
   ]
  },
  {
   "cell_type": "code",
   "execution_count": 4,
   "id": "bae2784c",
   "metadata": {},
   "outputs": [],
   "source": [
    "size = IowaSales_raw.shape[0]\n",
    "if(pd.options.display.max_info_rows <= size):\n",
    "  pd.options.display.max_info_rows = size + 1"
   ]
  },
  {
   "cell_type": "markdown",
   "id": "06db29cc",
   "metadata": {},
   "source": [
    "## Checking and removing null/missing values "
   ]
  },
  {
   "cell_type": "code",
   "execution_count": 5,
   "id": "4e79ba4d",
   "metadata": {},
   "outputs": [
    {
     "data": {
      "text/plain": [
       "Invoice/Item Number            0\n",
       "Date                           0\n",
       "Store Number                   0\n",
       "Store Name                     0\n",
       "Address                    82627\n",
       "City                       82626\n",
       "Zip Code                   82693\n",
       "Store Location           2495742\n",
       "County Number            2028072\n",
       "County                    159429\n",
       "Category                   16974\n",
       "Category Name              25040\n",
       "Vendor Number                  9\n",
       "Vendor Name                    7\n",
       "Item Number                    0\n",
       "Item Description               0\n",
       "Pack                           0\n",
       "Bottle Volume (ml)             0\n",
       "State Bottle Cost             10\n",
       "State Bottle Retail           10\n",
       "Bottles Sold                   0\n",
       "Sale (Dollars)                10\n",
       "Volume Sold (Liters)           0\n",
       "Volume Sold (Gallons)          0\n",
       "dtype: int64"
      ]
     },
     "execution_count": 5,
     "metadata": {},
     "output_type": "execute_result"
    }
   ],
   "source": [
    "IowaSales_raw.isna().sum()"
   ]
  },
  {
   "cell_type": "markdown",
   "id": "2bb213f4",
   "metadata": {},
   "source": [
    "### Attribute Information\n",
    "0. **`Invoice/Item Number`**    \n",
    "1. **`Date`**                  \n",
    "2. **`Store Number`**           \n",
    "3. **`Store Name`**:            \n",
    "4. **`Address`**: missing 82627 values,               \n",
    "5. **`City`**: missing 82626 values,                    \n",
    "6. **`Zip Code`**: missing 82693 values,                \n",
    "7. **`Store Location`**: missing 2495742 values, split to longtidute and latitude         \n",
    "8. **`County Number`**: missing 2028072 values\n",
    "9. **`County`**: missing 159429 values, \n",
    "10. **`Category`**: missing 16974 values\n",
    "11. **`Category Name`**: missing 25040 values\n",
    "12. **`Vendor Number`**: missing 9 values\n",
    "13. **`Vendor Name`**: missing 7 values, \n",
    "14. **`Item Number`**           \n",
    "15. **`Item Description`**:       \n",
    "16. **`Pack`**                \n",
    "17. **`Bottle Volume (ml)`**     \n",
    "18. **`State Bottle Cost`**: missing 10 values\n",
    "19. **`State Bottle Retail`**: missing 10 values    \n",
    "20. **`Bottles Sold`**            \n",
    "21. **`Sale (Dollars)`**: missing 10 values        \n",
    "22. **`Volume Sold (Liters)`**   \n",
    "23. **`Volume Sold (Gallons)`** "
   ]
  },
  {
   "cell_type": "code",
   "execution_count": 6,
   "id": "aa441370",
   "metadata": {},
   "outputs": [
    {
     "data": {
      "text/plain": [
       "Invoice/Item Number            0\n",
       "Date                           0\n",
       "Store Number                   0\n",
       "Store Name                     0\n",
       "Address                    82627\n",
       "City                       82626\n",
       "Zip Code                   82693\n",
       "Store Location           2495741\n",
       "County Number            2028072\n",
       "County                    159429\n",
       "Category                   16974\n",
       "Category Name              25040\n",
       "Vendor Number                  9\n",
       "Vendor Name                    7\n",
       "Item Number                    0\n",
       "Item Description               0\n",
       "Pack                           0\n",
       "Bottle Volume (ml)             0\n",
       "State Bottle Cost              0\n",
       "State Bottle Retail            0\n",
       "Bottles Sold                   0\n",
       "Sale (Dollars)                 0\n",
       "Volume Sold (Liters)           0\n",
       "Volume Sold (Gallons)          0\n",
       "dtype: int64"
      ]
     },
     "execution_count": 6,
     "metadata": {},
     "output_type": "execute_result"
    }
   ],
   "source": [
    "IowaSales_Copy_raw = IowaSales_raw.copy()\n",
    "IowaSales_Copy_NoSaleNa = IowaSales_Copy_raw.dropna(subset=['Sale (Dollars)'])\n",
    "IowaSales_Copy_NoSaleNa.isna().sum()\n",
    "\n"
   ]
  },
  {
   "cell_type": "code",
   "execution_count": 7,
   "id": "5f6ba641",
   "metadata": {},
   "outputs": [
    {
     "data": {
      "text/html": [
       "<div>\n",
       "<style scoped>\n",
       "    .dataframe tbody tr th:only-of-type {\n",
       "        vertical-align: middle;\n",
       "    }\n",
       "\n",
       "    .dataframe tbody tr th {\n",
       "        vertical-align: top;\n",
       "    }\n",
       "\n",
       "    .dataframe thead th {\n",
       "        text-align: right;\n",
       "    }\n",
       "</style>\n",
       "<table border=\"1\" class=\"dataframe\">\n",
       "  <thead>\n",
       "    <tr style=\"text-align: right;\">\n",
       "      <th></th>\n",
       "      <th>Store Number</th>\n",
       "      <th>Store Location</th>\n",
       "      <th>Zip Code</th>\n",
       "      <th>City</th>\n",
       "      <th>County Number</th>\n",
       "    </tr>\n",
       "  </thead>\n",
       "  <tbody>\n",
       "    <tr>\n",
       "      <th>0</th>\n",
       "      <td>2569</td>\n",
       "      <td>POINT (-91.630677 42.027805)</td>\n",
       "      <td>52402</td>\n",
       "      <td>CEDAR RAPIDS</td>\n",
       "      <td>57.0</td>\n",
       "    </tr>\n",
       "    <tr>\n",
       "      <th>1</th>\n",
       "      <td>4167</td>\n",
       "      <td>POINT (-90.668138 42.504959)</td>\n",
       "      <td>52001</td>\n",
       "      <td>DUBUQUE</td>\n",
       "      <td>31.0</td>\n",
       "    </tr>\n",
       "    <tr>\n",
       "      <th>2</th>\n",
       "      <td>4147</td>\n",
       "      <td>POINT (-92.474689 42.539076)</td>\n",
       "      <td>50613</td>\n",
       "      <td>CEDAR FALLS</td>\n",
       "      <td>7.0</td>\n",
       "    </tr>\n",
       "    <tr>\n",
       "      <th>3</th>\n",
       "      <td>2556</td>\n",
       "      <td>POINT (-94.829962 43.402096)</td>\n",
       "      <td>51334</td>\n",
       "      <td>ESTHERVILLE</td>\n",
       "      <td>32.0</td>\n",
       "    </tr>\n",
       "    <tr>\n",
       "      <th>5</th>\n",
       "      <td>3995</td>\n",
       "      <td>POINT (-92.430437 42.512768)</td>\n",
       "      <td>50613</td>\n",
       "      <td>CEDAR FALLS</td>\n",
       "      <td>7.0</td>\n",
       "    </tr>\n",
       "  </tbody>\n",
       "</table>\n",
       "</div>"
      ],
      "text/plain": [
       "   Store Number                Store Location Zip Code          City  \\\n",
       "0          2569  POINT (-91.630677 42.027805)    52402  CEDAR RAPIDS   \n",
       "1          4167  POINT (-90.668138 42.504959)    52001       DUBUQUE   \n",
       "2          4147  POINT (-92.474689 42.539076)    50613   CEDAR FALLS   \n",
       "3          2556  POINT (-94.829962 43.402096)    51334   ESTHERVILLE   \n",
       "5          3995  POINT (-92.430437 42.512768)    50613   CEDAR FALLS   \n",
       "\n",
       "   County Number  \n",
       "0           57.0  \n",
       "1           31.0  \n",
       "2            7.0  \n",
       "3           32.0  \n",
       "5            7.0  "
      ]
     },
     "execution_count": 7,
     "metadata": {},
     "output_type": "execute_result"
    }
   ],
   "source": [
    "# Try to locate some mapping for filling in some N/G data\n",
    "store_locs_withna = IowaSales_Copy_raw[['Store Number', 'Store Location', 'Zip Code', 'City', 'County Number']]\n",
    "store_locs = store_locs_withna.dropna()\n",
    "store_locs_unique_idx =  store_locs['Store Number'].duplicated()\n",
    "store_locs_unique_idx = (store_locs_unique_idx == False)\n",
    "store_locs_unique = store_locs[store_locs_unique_idx]\n",
    "store_locs_unique.head()"
   ]
  },
  {
   "cell_type": "markdown",
   "id": "78a9be0e",
   "metadata": {},
   "source": [
    "We are looking for a mapping to fill in the 'Store Location', 'Zip Code', 'City', and 'County Number' columns of the 'IowaSales_Copy_raw' DataFrame, which include missing data (N/G values). In order to accomplish this, a new DataFrame called \"store_locs_withna\" is created, including the pertinent columns, and any rows with missing values are dropped. Additionally, an exclusive index based on the \"Store Number\" column is created. The first five rows of the resulting DataFrame, which contain the unique locations of each store without any missing values, are then displayed. These unique rows are chosen based on this index. Using the 'Store Number' column as a key, this data can be utilised to complete the blanks in the original DataFrame."
   ]
  },
  {
   "cell_type": "code",
   "execution_count": 8,
   "id": "be139e3c",
   "metadata": {},
   "outputs": [
    {
     "data": {
      "text/html": [
       "<div>\n",
       "<style scoped>\n",
       "    .dataframe tbody tr th:only-of-type {\n",
       "        vertical-align: middle;\n",
       "    }\n",
       "\n",
       "    .dataframe tbody tr th {\n",
       "        vertical-align: top;\n",
       "    }\n",
       "\n",
       "    .dataframe thead th {\n",
       "        text-align: right;\n",
       "    }\n",
       "</style>\n",
       "<table border=\"1\" class=\"dataframe\">\n",
       "  <thead>\n",
       "    <tr style=\"text-align: right;\">\n",
       "      <th></th>\n",
       "      <th>Store Location</th>\n",
       "      <th>Zip Code</th>\n",
       "      <th>City</th>\n",
       "      <th>County Number</th>\n",
       "    </tr>\n",
       "    <tr>\n",
       "      <th>Store Number</th>\n",
       "      <th></th>\n",
       "      <th></th>\n",
       "      <th></th>\n",
       "      <th></th>\n",
       "    </tr>\n",
       "  </thead>\n",
       "  <tbody>\n",
       "    <tr>\n",
       "      <th>2569</th>\n",
       "      <td>POINT (-91.630677 42.027805)</td>\n",
       "      <td>52402</td>\n",
       "      <td>CEDAR RAPIDS</td>\n",
       "      <td>57.0</td>\n",
       "    </tr>\n",
       "    <tr>\n",
       "      <th>4167</th>\n",
       "      <td>POINT (-90.668138 42.504959)</td>\n",
       "      <td>52001</td>\n",
       "      <td>DUBUQUE</td>\n",
       "      <td>31.0</td>\n",
       "    </tr>\n",
       "    <tr>\n",
       "      <th>4147</th>\n",
       "      <td>POINT (-92.474689 42.539076)</td>\n",
       "      <td>50613</td>\n",
       "      <td>CEDAR FALLS</td>\n",
       "      <td>7.0</td>\n",
       "    </tr>\n",
       "    <tr>\n",
       "      <th>2556</th>\n",
       "      <td>POINT (-94.829962 43.402096)</td>\n",
       "      <td>51334</td>\n",
       "      <td>ESTHERVILLE</td>\n",
       "      <td>32.0</td>\n",
       "    </tr>\n",
       "    <tr>\n",
       "      <th>3995</th>\n",
       "      <td>POINT (-92.430437 42.512768)</td>\n",
       "      <td>50613</td>\n",
       "      <td>CEDAR FALLS</td>\n",
       "      <td>7.0</td>\n",
       "    </tr>\n",
       "    <tr>\n",
       "      <th>...</th>\n",
       "      <td>...</td>\n",
       "      <td>...</td>\n",
       "      <td>...</td>\n",
       "      <td>...</td>\n",
       "    </tr>\n",
       "    <tr>\n",
       "      <th>9934</th>\n",
       "      <td>POINT (-90.455001 41.571059)</td>\n",
       "      <td>52722</td>\n",
       "      <td>BETTENDORF</td>\n",
       "      <td>82.0</td>\n",
       "    </tr>\n",
       "    <tr>\n",
       "      <th>5372</th>\n",
       "      <td>POINT (-95.477367 43.184821)</td>\n",
       "      <td>51346</td>\n",
       "      <td>HARTLEY</td>\n",
       "      <td>71.0</td>\n",
       "    </tr>\n",
       "    <tr>\n",
       "      <th>5370</th>\n",
       "      <td>POINT (-91.666012 42.745695)</td>\n",
       "      <td>50606</td>\n",
       "      <td>ARLINGTON</td>\n",
       "      <td>33.0</td>\n",
       "    </tr>\n",
       "    <tr>\n",
       "      <th>5248</th>\n",
       "      <td>POINT (-92.912975 42.051619)</td>\n",
       "      <td>50158</td>\n",
       "      <td>MARSHALLTOWN</td>\n",
       "      <td>64.0</td>\n",
       "    </tr>\n",
       "    <tr>\n",
       "      <th>5433</th>\n",
       "      <td>POINT (-93.388235 43.117694)</td>\n",
       "      <td>50428</td>\n",
       "      <td>CLEARLAKE</td>\n",
       "      <td>17.0</td>\n",
       "    </tr>\n",
       "  </tbody>\n",
       "</table>\n",
       "<p>2616 rows × 4 columns</p>\n",
       "</div>"
      ],
      "text/plain": [
       "                            Store Location Zip Code          City  \\\n",
       "Store Number                                                        \n",
       "2569          POINT (-91.630677 42.027805)    52402  CEDAR RAPIDS   \n",
       "4167          POINT (-90.668138 42.504959)    52001       DUBUQUE   \n",
       "4147          POINT (-92.474689 42.539076)    50613   CEDAR FALLS   \n",
       "2556          POINT (-94.829962 43.402096)    51334   ESTHERVILLE   \n",
       "3995          POINT (-92.430437 42.512768)    50613   CEDAR FALLS   \n",
       "...                                    ...      ...           ...   \n",
       "9934          POINT (-90.455001 41.571059)    52722    BETTENDORF   \n",
       "5372          POINT (-95.477367 43.184821)    51346       HARTLEY   \n",
       "5370          POINT (-91.666012 42.745695)    50606     ARLINGTON   \n",
       "5248          POINT (-92.912975 42.051619)    50158  MARSHALLTOWN   \n",
       "5433          POINT (-93.388235 43.117694)    50428     CLEARLAKE   \n",
       "\n",
       "              County Number  \n",
       "Store Number                 \n",
       "2569                   57.0  \n",
       "4167                   31.0  \n",
       "4147                    7.0  \n",
       "2556                   32.0  \n",
       "3995                    7.0  \n",
       "...                     ...  \n",
       "9934                   82.0  \n",
       "5372                   71.0  \n",
       "5370                   33.0  \n",
       "5248                   64.0  \n",
       "5433                   17.0  \n",
       "\n",
       "[2616 rows x 4 columns]"
      ]
     },
     "execution_count": 8,
     "metadata": {},
     "output_type": "execute_result"
    }
   ],
   "source": [
    "store_locs_unique_ts = store_locs_unique.set_index('Store Number')\n",
    "store_locs_unique_ts"
   ]
  },
  {
   "cell_type": "code",
   "execution_count": 9,
   "id": "8fe97a53",
   "metadata": {},
   "outputs": [],
   "source": [
    "# Try to map using existing mapping in data\n",
    "IowaSales_Copy_raw.loc[IowaSales_Copy_raw['Store Location'].isna(),'Store Location'] = IowaSales_Copy_raw['Store Number'].map(lambda x: store_locs_unique_ts.at[x, 'Store Location'] if x in store_locs_unique_ts.index else np.NaN)\n",
    "IowaSales_Copy_raw.loc[IowaSales_Copy_raw['Zip Code'].isna(),'Zip Code'] = IowaSales_Copy_raw['Store Number'].map(lambda x: store_locs_unique_ts.at[x, 'Zip Code'] if x in store_locs_unique_ts.index else np.NaN)\n",
    "IowaSales_Copy_raw.loc[IowaSales_Copy_raw['City'].isna(),'City'] = IowaSales_Copy_raw['Store Number'].map(lambda x: store_locs_unique_ts.at[x, 'City'] if x in store_locs_unique_ts.index else np.NaN)\n",
    "IowaSales_Copy_raw.loc[IowaSales_Copy_raw['County Number'].isna(),'County Number'] = IowaSales_Copy_raw['Store Number'].map(lambda x: store_locs_unique_ts.at[x, 'County Number'] if x in store_locs_unique_ts.index else np.NaN)\n",
    "IowaSales_Copy_raw = IowaSales_Copy_raw.dropna(subset=['Sale (Dollars)'])"
   ]
  },
  {
   "cell_type": "markdown",
   "id": "8e7bedf2",
   "metadata": {},
   "source": [
    "Using existing mappings from the \"store_locs_unique_ts\" DataFrame, we are attempting to fill in missing values in the \"Store Location,\" \"Zip Code,\" \"City,\" and \"County Number\" columns of the \"IowaSales_Copy_raw\" DataFrame. This is accomplished by applying a lambda function to each missing value in the relevant columns, mapping each \"Store Number\" to, if available, its corresponding value in the \"store_locs_unique_ts\" DataFrame, or else assigning a missing value. To make sure the data is clear and suitable for analysis, the algorithm removes any rows with missing data in the \"Sale (Dollars)\" column.\n",
    "\n"
   ]
  },
  {
   "cell_type": "code",
   "execution_count": 10,
   "id": "51e52e0c",
   "metadata": {},
   "outputs": [
    {
     "data": {
      "text/html": [
       "<div>\n",
       "<style scoped>\n",
       "    .dataframe tbody tr th:only-of-type {\n",
       "        vertical-align: middle;\n",
       "    }\n",
       "\n",
       "    .dataframe tbody tr th {\n",
       "        vertical-align: top;\n",
       "    }\n",
       "\n",
       "    .dataframe thead th {\n",
       "        text-align: right;\n",
       "    }\n",
       "</style>\n",
       "<table border=\"1\" class=\"dataframe\">\n",
       "  <thead>\n",
       "    <tr style=\"text-align: right;\">\n",
       "      <th></th>\n",
       "      <th>Invoice/Item Number</th>\n",
       "      <th>Date</th>\n",
       "      <th>Store Number</th>\n",
       "      <th>Store Name</th>\n",
       "      <th>Address</th>\n",
       "      <th>City</th>\n",
       "      <th>Zip Code</th>\n",
       "      <th>Store Location</th>\n",
       "      <th>County Number</th>\n",
       "      <th>County</th>\n",
       "      <th>...</th>\n",
       "      <th>Item Number</th>\n",
       "      <th>Item Description</th>\n",
       "      <th>Pack</th>\n",
       "      <th>Bottle Volume (ml)</th>\n",
       "      <th>State Bottle Cost</th>\n",
       "      <th>State Bottle Retail</th>\n",
       "      <th>Bottles Sold</th>\n",
       "      <th>Sale (Dollars)</th>\n",
       "      <th>Volume Sold (Liters)</th>\n",
       "      <th>Volume Sold (Gallons)</th>\n",
       "    </tr>\n",
       "  </thead>\n",
       "  <tbody>\n",
       "    <tr>\n",
       "      <th>0</th>\n",
       "      <td>INV-07993400005</td>\n",
       "      <td>10/16/2017</td>\n",
       "      <td>2569</td>\n",
       "      <td>HY-VEE FOOD STORE #2 / CEDAR RAPIDS</td>\n",
       "      <td>279 COLLINS ROAD NE</td>\n",
       "      <td>CEDAR RAPIDS</td>\n",
       "      <td>52402</td>\n",
       "      <td>POINT (-91.630677 42.027805)</td>\n",
       "      <td>57.0</td>\n",
       "      <td>LINN</td>\n",
       "      <td>...</td>\n",
       "      <td>8828</td>\n",
       "      <td>LAUDER'S</td>\n",
       "      <td>6</td>\n",
       "      <td>1750</td>\n",
       "      <td>10.85</td>\n",
       "      <td>16.28</td>\n",
       "      <td>1</td>\n",
       "      <td>16.77</td>\n",
       "      <td>1.75</td>\n",
       "      <td>0.46</td>\n",
       "    </tr>\n",
       "    <tr>\n",
       "      <th>1</th>\n",
       "      <td>INV-07865000149</td>\n",
       "      <td>10/10/2017</td>\n",
       "      <td>4167</td>\n",
       "      <td>IOWA STREET MARKET, INC.</td>\n",
       "      <td>1256 IOWA ST</td>\n",
       "      <td>DUBUQUE</td>\n",
       "      <td>52001</td>\n",
       "      <td>POINT (-90.668138 42.504959)</td>\n",
       "      <td>31.0</td>\n",
       "      <td>DUBUQUE</td>\n",
       "      <td>...</td>\n",
       "      <td>44557</td>\n",
       "      <td>CRUZAN STRAWBERRY RUM</td>\n",
       "      <td>12</td>\n",
       "      <td>750</td>\n",
       "      <td>6.83</td>\n",
       "      <td>10.25</td>\n",
       "      <td>1</td>\n",
       "      <td>10.25</td>\n",
       "      <td>0.75</td>\n",
       "      <td>0.20</td>\n",
       "    </tr>\n",
       "    <tr>\n",
       "      <th>2</th>\n",
       "      <td>INV-07966000007</td>\n",
       "      <td>10/13/2017</td>\n",
       "      <td>4147</td>\n",
       "      <td>FAREWAY STORES #974 / CEDAR FALLS</td>\n",
       "      <td>214 N MAGNOLIA DR</td>\n",
       "      <td>CEDAR FALLS</td>\n",
       "      <td>50613</td>\n",
       "      <td>POINT (-92.474689 42.539076)</td>\n",
       "      <td>7.0</td>\n",
       "      <td>BLACK HAWK</td>\n",
       "      <td>...</td>\n",
       "      <td>10791</td>\n",
       "      <td>CROWN ROYAL VANILLA</td>\n",
       "      <td>12</td>\n",
       "      <td>750</td>\n",
       "      <td>15.59</td>\n",
       "      <td>23.39</td>\n",
       "      <td>12</td>\n",
       "      <td>280.68</td>\n",
       "      <td>9.00</td>\n",
       "      <td>2.38</td>\n",
       "    </tr>\n",
       "    <tr>\n",
       "      <th>3</th>\n",
       "      <td>INV-07891600038</td>\n",
       "      <td>10/11/2017</td>\n",
       "      <td>2556</td>\n",
       "      <td>HY-VEE WINE AND SPIRITS / ESTHERVILLE</td>\n",
       "      <td>1033 CENTRAL AVENUE</td>\n",
       "      <td>ESTHERVILLE</td>\n",
       "      <td>51334</td>\n",
       "      <td>POINT (-94.829962 43.402096)</td>\n",
       "      <td>32.0</td>\n",
       "      <td>EMMET</td>\n",
       "      <td>...</td>\n",
       "      <td>43028</td>\n",
       "      <td>ADMIRAL NELSON SPICED RUM</td>\n",
       "      <td>6</td>\n",
       "      <td>1750</td>\n",
       "      <td>11.55</td>\n",
       "      <td>17.33</td>\n",
       "      <td>6</td>\n",
       "      <td>103.98</td>\n",
       "      <td>10.50</td>\n",
       "      <td>2.77</td>\n",
       "    </tr>\n",
       "    <tr>\n",
       "      <th>4</th>\n",
       "      <td>INV-07976400007</td>\n",
       "      <td>10/13/2017</td>\n",
       "      <td>3629</td>\n",
       "      <td>WAL-MART 1965 / COUNCIL BLUFFS</td>\n",
       "      <td>3200 MANAWA DR</td>\n",
       "      <td>COUNCIL BLUFFS</td>\n",
       "      <td>51503</td>\n",
       "      <td>POINT (-95.848696 41.226557)</td>\n",
       "      <td>78.0</td>\n",
       "      <td>POTTAWATTA</td>\n",
       "      <td>...</td>\n",
       "      <td>43028</td>\n",
       "      <td>ADMIRAL NELSON SPICED RUM</td>\n",
       "      <td>6</td>\n",
       "      <td>1750</td>\n",
       "      <td>11.55</td>\n",
       "      <td>17.33</td>\n",
       "      <td>12</td>\n",
       "      <td>207.96</td>\n",
       "      <td>21.00</td>\n",
       "      <td>5.55</td>\n",
       "    </tr>\n",
       "  </tbody>\n",
       "</table>\n",
       "<p>5 rows × 24 columns</p>\n",
       "</div>"
      ],
      "text/plain": [
       "  Invoice/Item Number        Date  Store Number  \\\n",
       "0     INV-07993400005  10/16/2017          2569   \n",
       "1     INV-07865000149  10/10/2017          4167   \n",
       "2     INV-07966000007  10/13/2017          4147   \n",
       "3     INV-07891600038  10/11/2017          2556   \n",
       "4     INV-07976400007  10/13/2017          3629   \n",
       "\n",
       "                              Store Name              Address            City  \\\n",
       "0    HY-VEE FOOD STORE #2 / CEDAR RAPIDS  279 COLLINS ROAD NE    CEDAR RAPIDS   \n",
       "1               IOWA STREET MARKET, INC.         1256 IOWA ST         DUBUQUE   \n",
       "2      FAREWAY STORES #974 / CEDAR FALLS    214 N MAGNOLIA DR     CEDAR FALLS   \n",
       "3  HY-VEE WINE AND SPIRITS / ESTHERVILLE  1033 CENTRAL AVENUE     ESTHERVILLE   \n",
       "4         WAL-MART 1965 / COUNCIL BLUFFS       3200 MANAWA DR  COUNCIL BLUFFS   \n",
       "\n",
       "  Zip Code                Store Location  County Number      County  ...  \\\n",
       "0    52402  POINT (-91.630677 42.027805)           57.0        LINN  ...   \n",
       "1    52001  POINT (-90.668138 42.504959)           31.0     DUBUQUE  ...   \n",
       "2    50613  POINT (-92.474689 42.539076)            7.0  BLACK HAWK  ...   \n",
       "3    51334  POINT (-94.829962 43.402096)           32.0       EMMET  ...   \n",
       "4    51503  POINT (-95.848696 41.226557)           78.0  POTTAWATTA  ...   \n",
       "\n",
       "   Item Number           Item Description  Pack Bottle Volume (ml)  \\\n",
       "0         8828                   LAUDER'S     6               1750   \n",
       "1        44557      CRUZAN STRAWBERRY RUM    12                750   \n",
       "2        10791        CROWN ROYAL VANILLA    12                750   \n",
       "3        43028  ADMIRAL NELSON SPICED RUM     6               1750   \n",
       "4        43028  ADMIRAL NELSON SPICED RUM     6               1750   \n",
       "\n",
       "  State Bottle Cost State Bottle Retail  Bottles Sold  Sale (Dollars)  \\\n",
       "0             10.85               16.28             1           16.77   \n",
       "1              6.83               10.25             1           10.25   \n",
       "2             15.59               23.39            12          280.68   \n",
       "3             11.55               17.33             6          103.98   \n",
       "4             11.55               17.33            12          207.96   \n",
       "\n",
       "   Volume Sold (Liters)  Volume Sold (Gallons)  \n",
       "0                  1.75                   0.46  \n",
       "1                  0.75                   0.20  \n",
       "2                  9.00                   2.38  \n",
       "3                 10.50                   2.77  \n",
       "4                 21.00                   5.55  \n",
       "\n",
       "[5 rows x 24 columns]"
      ]
     },
     "execution_count": 10,
     "metadata": {},
     "output_type": "execute_result"
    }
   ],
   "source": [
    "IowaSales_Copy_raw.head()"
   ]
  },
  {
   "cell_type": "code",
   "execution_count": 11,
   "id": "a92a85c2",
   "metadata": {},
   "outputs": [],
   "source": [
    "# CLean up to re-categorize the Categories\n",
    "IowaSales_Copy_raw['Category Name'] = IowaSales_Copy_raw['Category Name'].apply(lambda x: x.upper() if isinstance(x, str) else None)\n",
    "IowaSales_Copy_raw['Category Name']= IowaSales_Copy_raw['Category Name'].apply(\n",
    "    lambda x: None if x is None else \n",
    "    'WHISKY' if 'WHISKIES' in x else\n",
    "    'WHISKY' if 'WHISKY' in x else\n",
    "    'VODKA' if 'VODKA' in x else\n",
    "    'RUM' if 'RUM' in x else\n",
    "    'BEER' if 'BEER' in x else    \n",
    "    'TEQUILA' if 'TEQUILA' in x else    \n",
    "    'COCKTAIL' if 'COCKTAIL' in x else    \n",
    "    'BRANDIES' if 'BRANDIES' in x else    \n",
    "    'SCHNAPPS' if 'SCHNAPPS' in x else    \n",
    "    'SCOTCH' if 'SCOTCH' in x else    \n",
    "    'CORDIALS & LIQUEURS' if 'CORDIAL' in x else    \n",
    "    'CORDIALS & LIQUEURS' if 'LIQUEUR' in x else    \n",
    "    'CORDIALS & LIQUEURS' if 'TRIPLE SEC' in x else \n",
    "    'CORDIALS & LIQUEURS' if 'AMERICAN ALCOHOL' in x else\n",
    "    'AMARETTO' if 'AMARETTO' in x else\n",
    "    'SPIRIT SPECIALTY' if 'DISTILLED SPIRIT' in x else\n",
    "    'SPIRIT SPECIALTY' if 'SPIRIT' in x else\n",
    "    'SPIRIT SPECIALTY' if 'SPECIALTY' in x else\n",
    "    'SPIRIT SPECIALTY' if 'CREME' in x else\n",
    "    'SPIRIT SPECIALTY' if 'BOTTLED IN BOND BOURBON' in x else  \n",
    "    'SPIRIT SPECIALTY' if 'HOLIDAY VAP' in x else      \n",
    "    'GINS' if 'GIN' in x else    \n",
    "    'OTHERS' if 'DELISTED ITEMS' in x else\n",
    "    x)"
   ]
  },
  {
   "cell_type": "markdown",
   "id": "5a77e38d",
   "metadata": {},
   "source": [
    "In the dataset \"IowaSales_Copy_raw,\" we purge and reclassify the \"Category Name\" field. The code raises the case of every text value in the column before replacing some of the data with fresh ones in accordance with predetermined criteria. The new classifications include \"WHISKY,\" \"VODKA,\" \"RUM,\" \"BEER,\" \"TEQUILA,\" \"COCKTAIL,\" \"BRANDIES,\" \"SCHNAPPS,\" \"SCOTCH,\" \"CORDIALS & LIQUEURS,\" \"AMARETTO,\" \"SPIRIT SPECIALTY,\" \"GINS,\" and \"OTHERS.\" The procedure of cleaning and reclassifying will make it simpler to analyse and summarise sales data by category."
   ]
  },
  {
   "cell_type": "code",
   "execution_count": 12,
   "id": "f4ab153b",
   "metadata": {},
   "outputs": [
    {
     "data": {
      "text/plain": [
       "Invoice/Item Number            0\n",
       "Date                           0\n",
       "Store Number                   0\n",
       "Store Name                     0\n",
       "Address                    82627\n",
       "City                        7882\n",
       "Zip Code                    7904\n",
       "Store Location           1568518\n",
       "County Number             184176\n",
       "County                    159429\n",
       "Category                   16974\n",
       "Category Name              25040\n",
       "Vendor Number                  9\n",
       "Vendor Name                    7\n",
       "Item Number                    0\n",
       "Item Description               0\n",
       "Pack                           0\n",
       "Bottle Volume (ml)             0\n",
       "State Bottle Cost              0\n",
       "State Bottle Retail            0\n",
       "Bottles Sold                   0\n",
       "Sale (Dollars)                 0\n",
       "Volume Sold (Liters)           0\n",
       "Volume Sold (Gallons)          0\n",
       "dtype: int64"
      ]
     },
     "execution_count": 12,
     "metadata": {},
     "output_type": "execute_result"
    }
   ],
   "source": [
    "IowaSales_Copy_raw.isna().sum()"
   ]
  },
  {
   "cell_type": "code",
   "execution_count": 13,
   "id": "2ff525c4",
   "metadata": {},
   "outputs": [],
   "source": [
    "def remove_outliers_iqr(df, column):\n",
    "    Q1 = df[column].quantile(0.25)\n",
    "    Q3 = df[column].quantile(0.75)\n",
    "    IQR = Q3 - Q1\n",
    "    lower_bound = Q1 - 1.5 * IQR\n",
    "    upper_bound = Q3 + 1.5 * IQR\n",
    "    df_filtered = df[(df[column] >= lower_bound) & (df[column] <= upper_bound)]\n",
    "    return df_filtered\n",
    "\n",
    "# Remove outliers for each numerical column\n",
    "numerical_columns = ['Pack', 'Bottle Volume (ml)', 'State Bottle Cost', 'State Bottle Retail', 'Bottles Sold', 'Sale (Dollars)', 'Volume Sold (Liters)', 'Volume Sold (Gallons)']\n",
    "for column in numerical_columns:\n",
    "    IowaSales_Copy_raw2 = remove_outliers_iqr(IowaSales_Copy_raw, column)"
   ]
  },
  {
   "cell_type": "code",
   "execution_count": 14,
   "id": "48fdd023",
   "metadata": {},
   "outputs": [],
   "source": [
    "IowaSales_copybak = IowaSales_Copy_raw2.copy()\n",
    "\n",
    "# Extract the Longtitue/Latitude\n",
    "IowaSales_Copy_raw[\"Longitude\"] = IowaSales_Copy_raw['Store Location'].map(lambda x: float(x.replace(\"(\", \"\").replace(\")\",\"\").split(\" \")[1]) if isinstance(x, str) else np.NaN)\n",
    "IowaSales_Copy_raw[\"Latitude\"] = IowaSales_Copy_raw['Store Location'].map(lambda x: float(x.replace(\"(\", \"\").replace(\")\",\"\").split(\" \")[2]) if isinstance(x, str) else np.NaN)\n",
    "\n"
   ]
  },
  {
   "cell_type": "code",
   "execution_count": 15,
   "id": "9ba60d52",
   "metadata": {},
   "outputs": [],
   "source": [
    "# Drop redundant columnes \n",
    "IowaSales_Copy = IowaSales_Copy_raw.drop(['Store Name','Address','Vendor Name','Item Description', 'Invoice/Item Number', \"Store Location\", \"County\"], axis=1)"
   ]
  },
  {
   "cell_type": "code",
   "execution_count": 16,
   "id": "aebb7d48",
   "metadata": {},
   "outputs": [
    {
     "data": {
      "text/plain": [
       "Invoice/Item Number      0\n",
       "Date                     0\n",
       "Store Number             0\n",
       "Store Name               0\n",
       "Address                  0\n",
       "City                     0\n",
       "Zip Code                 0\n",
       "Store Location           0\n",
       "County Number            0\n",
       "County                   0\n",
       "Category                 0\n",
       "Category Name            0\n",
       "Vendor Number            0\n",
       "Vendor Name              0\n",
       "Item Number              0\n",
       "Item Description         0\n",
       "Pack                     0\n",
       "Bottle Volume (ml)       0\n",
       "State Bottle Cost        0\n",
       "State Bottle Retail      0\n",
       "Bottles Sold             0\n",
       "Sale (Dollars)           0\n",
       "Volume Sold (Liters)     0\n",
       "Volume Sold (Gallons)    0\n",
       "Longitude                0\n",
       "Latitude                 0\n",
       "dtype: int64"
      ]
     },
     "execution_count": 16,
     "metadata": {},
     "output_type": "execute_result"
    }
   ],
   "source": [
    "# Further dropping some rare NA items after being filled with other existig mapping\n",
    "IowaSales_Copy = IowaSales_Copy_raw.dropna(subset=['Sale (Dollars)', 'City', 'Zip Code', 'Longitude'])\n",
    "IowaSales_Copy_Filled = IowaSales_Copy.fillna(method='ffill')\n",
    "IowaSales_Copy_Filled.isna().sum()"
   ]
  },
  {
   "cell_type": "markdown",
   "id": "68229934",
   "metadata": {},
   "source": [
    "The 'dropna' function in Python is used to first remove any rows with empty values in the 'Sale (Dollars),' 'City,' 'Zip Code,' and 'Longitude' columns. The last non-missing value is then copied forward using the \"fillna\" function with the \"method\" parameter set to \"ffill,\" filling in any remaining missing values in the dataset. The 'isna' function is used to examine the dataset for any further missing values before returning the overall number of missing values for each column. Overall, the algorithm makes sure that the dataset is accurate for analysis and modelling by making sure there are no missing values.\n"
   ]
  },
  {
   "cell_type": "code",
   "execution_count": 17,
   "id": "ab1dede2",
   "metadata": {},
   "outputs": [
    {
     "data": {
      "text/plain": [
       "23906466    x904631\n",
       "24940259    x904631\n",
       "24952354    x904631\n",
       "Name: Item Number, dtype: object"
      ]
     },
     "execution_count": 17,
     "metadata": {},
     "output_type": "execute_result"
    }
   ],
   "source": [
    "# Inspect data format before converting\n",
    "IowaSales_Copy_Filled[\"Item Number\"][IowaSales_Copy_Filled[\"Item Number\"].map(lambda x: x.isdigit()) == False]"
   ]
  },
  {
   "cell_type": "code",
   "execution_count": 18,
   "id": "a9b58f3d",
   "metadata": {},
   "outputs": [],
   "source": [
    "import datetime\n",
    "\n",
    "# Converting \n",
    "IowaSales_Copy_Filled['Date'] = IowaSales_Copy_Filled['Date'].map(lambda x: datetime.datetime.strptime(x, '%m/%d/%Y'))\n",
    "IowaSales_Copy_Filled['Month'] = IowaSales_Copy_Filled['Date'].map(lambda x: x.month)\n",
    "IowaSales_Copy_Filled[\"City\"] = IowaSales_Copy_Filled[\"City\"].apply(lambda x: x.upper())\n",
    "IowaSales_Copy_Filled[\"Zip Code\"] = IowaSales_Copy_Filled[\"Zip Code\"].map(lambda x: '51529' if x == '712-2' else x)\n",
    "IowaSales_Copy_Filled[\"Item Number\"] = IowaSales_Copy_Filled[\"Item Number\"].map(lambda x: '904631' if x == 'x904631' else x)\n"
   ]
  },
  {
   "cell_type": "code",
   "execution_count": 19,
   "id": "dcb25810",
   "metadata": {},
   "outputs": [],
   "source": [
    "\n",
    "IowaSales_Copy_Filled[\"Zip Code\"] = IowaSales_Copy_Filled[\"Zip Code\"].astype(int)\n",
    "IowaSales_Copy_Filled[\"Item Number\"] = IowaSales_Copy_Filled[\"Item Number\"].astype(np.int32)\n",
    "\n",
    "IowaSales_Copy_Filled[\"Pack Volume (ml)\"] = IowaSales_Copy_Filled[\"Pack\"] * IowaSales_Copy_Filled[\"Bottle Volume (ml)\"]"
   ]
  },
  {
   "cell_type": "code",
   "execution_count": 20,
   "id": "51723954",
   "metadata": {},
   "outputs": [
    {
     "data": {
      "text/plain": [
       "Index(['Invoice/Item Number', 'Date', 'Store Number', 'Store Name', 'Address',\n",
       "       'City', 'Zip Code', 'Store Location', 'County Number', 'County',\n",
       "       'Category', 'Category Name', 'Vendor Number', 'Vendor Name',\n",
       "       'Item Number', 'Item Description', 'Pack', 'Bottle Volume (ml)',\n",
       "       'State Bottle Cost', 'State Bottle Retail', 'Bottles Sold',\n",
       "       'Sale (Dollars)', 'Volume Sold (Liters)', 'Volume Sold (Gallons)',\n",
       "       'Longitude', 'Latitude', 'Month', 'Pack Volume (ml)'],\n",
       "      dtype='object')"
      ]
     },
     "execution_count": 20,
     "metadata": {},
     "output_type": "execute_result"
    }
   ],
   "source": [
    "IowaSales_Copy_Filled.columns"
   ]
  },
  {
   "cell_type": "code",
   "execution_count": 21,
   "id": "a7b87ea6",
   "metadata": {
    "scrolled": false
   },
   "outputs": [
    {
     "name": "stdout",
     "output_type": "stream",
     "text": [
      "<class 'pandas.core.frame.DataFrame'>\n",
      "Int64Index: 24592365 entries, 0 to 26160913\n",
      "Data columns (total 26 columns):\n",
      " #   Column                 Non-Null Count     Dtype  \n",
      "---  ------                 --------------     -----  \n",
      " 0   Invoice/Item Number    24592365 non-null  object \n",
      " 1   Store Number           24592365 non-null  int64  \n",
      " 2   Store Name             24592365 non-null  object \n",
      " 3   Address                24592365 non-null  object \n",
      " 4   City                   24592365 non-null  object \n",
      " 5   Zip Code               24592365 non-null  int32  \n",
      " 6   Store Location         24592365 non-null  object \n",
      " 7   County Number          24592365 non-null  float64\n",
      " 8   County                 24592365 non-null  object \n",
      " 9   Category               24592365 non-null  float64\n",
      " 10  Vendor Number          24592365 non-null  float64\n",
      " 11  Vendor Name            24592365 non-null  object \n",
      " 12  Item Number            24592365 non-null  int32  \n",
      " 13  Item Description       24592365 non-null  object \n",
      " 14  Pack                   24592365 non-null  int64  \n",
      " 15  Bottle Volume (ml)     24592365 non-null  int64  \n",
      " 16  State Bottle Cost      24592365 non-null  float64\n",
      " 17  State Bottle Retail    24592365 non-null  float64\n",
      " 18  Bottles Sold           24592365 non-null  int64  \n",
      " 19  Sale (Dollars)         24592365 non-null  float64\n",
      " 20  Volume Sold (Liters)   24592365 non-null  float64\n",
      " 21  Volume Sold (Gallons)  24592365 non-null  float64\n",
      " 22  Longitude              24592365 non-null  float64\n",
      " 23  Latitude               24592365 non-null  float64\n",
      " 24  Month                  24592365 non-null  int64  \n",
      " 25  Pack Volume (ml)       24592365 non-null  int64  \n",
      "dtypes: float64(10), int32(2), int64(6), object(8)\n",
      "memory usage: 4.8+ GB\n"
     ]
    },
    {
     "data": {
      "text/plain": [
       "(None, (24592365, 26))"
      ]
     },
     "execution_count": 21,
     "metadata": {},
     "output_type": "execute_result"
    }
   ],
   "source": [
    "# Sampling for visualization\n",
    "IowaSales_Main = IowaSales_Copy_Filled.drop([\"Date\", \"Category Name\"], axis=1)\n",
    "IowaSales_Main.info(), IowaSales_Main.shape\n",
    "\n"
   ]
  },
  {
   "cell_type": "code",
   "execution_count": 22,
   "id": "cb5ef136",
   "metadata": {},
   "outputs": [],
   "source": [
    "IowaSales_Main.to_csv(\"Cleaneddatastage1.csv\")"
   ]
  }
 ],
 "metadata": {
  "kernelspec": {
   "display_name": "Python 3 (ipykernel)",
   "language": "python",
   "name": "python3"
  },
  "language_info": {
   "codemirror_mode": {
    "name": "ipython",
    "version": 3
   },
   "file_extension": ".py",
   "mimetype": "text/x-python",
   "name": "python",
   "nbconvert_exporter": "python",
   "pygments_lexer": "ipython3",
   "version": "3.10.9"
  }
 },
 "nbformat": 4,
 "nbformat_minor": 5
}
